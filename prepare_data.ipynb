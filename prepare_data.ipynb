{
 "cells": [
  {
   "cell_type": "code",
   "execution_count": 1,
   "metadata": {},
   "outputs": [],
   "source": [
    "import tensorflow as tf\n",
    "import numpy as np\n",
    "from glob import glob\n",
    "import matplotlib.pyplot as plt\n",
    "import cv2\n",
    "from tqdm import tqdm"
   ]
  },
  {
   "cell_type": "code",
   "execution_count": 2,
   "metadata": {},
   "outputs": [
    {
     "data": {
      "text/plain": [
       "2975"
      ]
     },
     "execution_count": 2,
     "metadata": {},
     "output_type": "execute_result"
    }
   ],
   "source": [
    "mask_path = sorted(glob('dataset/train_masks/*'))\n",
    "len(mask_path)"
   ]
  },
  {
   "cell_type": "code",
   "execution_count": 3,
   "metadata": {},
   "outputs": [],
   "source": [
    "test_mask = tf.io.read_file(mask_path[1])\n",
    "test_mask = tf.image.decode_image(test_mask, channels=1)\n",
    "test_mask = np.squeeze(test_mask)"
   ]
  },
  {
   "cell_type": "code",
   "execution_count": 4,
   "metadata": {},
   "outputs": [
    {
     "data": {
      "text/plain": [
       "<matplotlib.image.AxesImage at 0x7fe65009ea90>"
      ]
     },
     "execution_count": 4,
     "metadata": {},
     "output_type": "execute_result"
    },
    {
     "data": {
      "image/png": "[encoded data removed]",
      "text/plain": [
       "<Figure size 432x288 with 1 Axes>"
      ]
     },
     "metadata": {
      "needs_background": "light"
     },
     "output_type": "display_data"
    }
   ],
   "source": [
    "plt.imshow(test_mask)"
   ]
  },
  {
   "cell_type": "code",
   "execution_count": 5,
   "metadata": {},
   "outputs": [],
   "source": [
    "class_labels = {\n",
    "    'void': [0, 1, 2, 3, 4, 5, 6, 7, 8, 9,\n",
    "            10, 11, 12, 13, 14, 15, 16, 17, 18, 19,\n",
    "            20, 21, 22, 23, 24, 25],\n",
    "    'vehicle': [26, 27, 28, 29, 30, 31, 32, 33, -1]\n",
    "}"
   ]
  },
  {
   "cell_type": "code",
   "execution_count": 6,
   "metadata": {},
   "outputs": [],
   "source": [
    "def create_mask(m):\n",
    "    mask_ = tf.io.read_file(m)\n",
    "    mask_ = tf.image.decode_image(mask_, channels=1)\n",
    "    mask_ = np.squeeze(mask_)\n",
    "    mask = np.zeros((mask_.shape[0], mask_.shape[1], 2))\n",
    "    for i in range(-1, 34):\n",
    "        if i in class_labels['void']:\n",
    "            mask[:, :, 0] = np.logical_or(mask[:, :, 0], (mask_==i))\n",
    "        elif i in class_labels['vehicle']:\n",
    "            mask[:, :, 1] = np.logical_or(mask[:, :, 1], (mask_==i))\n",
    "    mask = np.argmax(mask, axis=-1)\n",
    "    cv2.imwrite('dataset/2_channel_mask/'+m.split('/')[-1], mask)"
   ]
  },
  {
   "cell_type": "code",
   "execution_count": 7,
   "metadata": {},
   "outputs": [
    {
     "name": "stderr",
     "output_type": "stream",
     "text": [
      "100%|██████████| 2975/2975 [12:42<00:00,  4.12it/s]\n"
     ]
    }
   ],
   "source": [
    "for i in tqdm(mask_path):\n",
    "    create_mask(i)"
   ]
  },
  {
   "cell_type": "code",
   "execution_count": 17,
   "metadata": {},
   "outputs": [
    {
     "data": {
      "text/plain": [
       "<matplotlib.image.AxesImage at 0x7fe5d07cbfd0>"
      ]
     },
     "execution_count": 17,
     "metadata": {},
     "output_type": "execute_result"
    },
    {
     "data": {
      "image/png": "[encoded data removed]",
      "text/plain": [
       "<Figure size 432x288 with 1 Axes>"
      ]
     },
     "metadata": {
      "needs_background": "light"
     },
     "output_type": "display_data"
    }
   ],
   "source": [
    "test = tf.io.read_file(sorted(glob('dataset/2_channel_mask/*'))[1])\n",
    "test = tf.image.decode_image(test, channels=1)\n",
    "test = np.squeeze(test)\n",
    "plt.imshow(test)"
   ]
  }
 ],
 "metadata": {
  "kernelspec": {
   "display_name": "Python 3",
   "language": "python",
   "name": "python3"
  },
  "language_info": {
   "codemirror_mode": {
    "name": "ipython",
    "version": 3
   },
   "file_extension": ".py",
   "mimetype": "text/x-python",
   "name": "python",
   "nbconvert_exporter": "python",
   "pygments_lexer": "ipython3",
   "version": "3.6.7"
  }
 },
 "nbformat": 4,
 "nbformat_minor": 2
}
